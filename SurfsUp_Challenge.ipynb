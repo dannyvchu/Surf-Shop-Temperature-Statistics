{
 "cells": [
  {
   "cell_type": "code",
   "execution_count": 1,
   "metadata": {},
   "outputs": [],
   "source": [
    "# Dependencies\n",
    "import numpy as np\n",
    "import pandas as pd\n",
    "\n",
    "# Python SQL toolkit and Object Relational Mapper\n",
    "import sqlalchemy\n",
    "from sqlalchemy.ext.automap import automap_base\n",
    "from sqlalchemy.orm import Session\n",
    "from sqlalchemy import create_engine, func"
   ]
  },
  {
   "cell_type": "code",
   "execution_count": 2,
   "metadata": {},
   "outputs": [],
   "source": [
    "engine = create_engine(\"sqlite:///hawaii.sqlite\")\n",
    "\n",
    "# reflect an existing database into a new model\n",
    "Base = automap_base()\n",
    "# reflect the tables\n",
    "Base.prepare(engine, reflect=True)\n",
    "\n",
    "# Save references to each table\n",
    "Measurement = Base.classes.measurement\n",
    "Station = Base.classes.station"
   ]
  },
  {
   "cell_type": "code",
   "execution_count": null,
   "metadata": {},
   "outputs": [],
   "source": [
    "session.query(Measurement.)"
   ]
  },
  {
   "cell_type": "code",
   "execution_count": 3,
   "metadata": {},
   "outputs": [],
   "source": [
    "# Create our session (link) from Python to the DB\n",
    "session = Session(engine)"
   ]
  },
  {
   "cell_type": "markdown",
   "metadata": {},
   "source": [
    "## D1: Determine the Summary Statistics for June"
   ]
  },
  {
   "cell_type": "code",
   "execution_count": 4,
   "metadata": {},
   "outputs": [],
   "source": [
    "# Create function that outputs statistics for the given month\n",
    "def monthly_temps(month):\n",
    "    years = [2010, 2011, 2012, 2013, 2014, 2015, 2016, 2017]\n",
    "    temp_list = []\n",
    "    for year in years:\n",
    "        if month == '01' or '03' or '05' or '07' or '08' or '10' or '12':\n",
    "            date_start = str(year) + '-' + str(month) + '-01'\n",
    "            date_end = str(year) + '-' + str(month) + '-31'\n",
    "            results = session.query(Measurement.tobs).filter(Measurement.date >= date_start).filter(Measurement.date <= date_end).all()\n",
    "            temp_list = temp_list + results\n",
    "        elif month == '04' or '06' or '09' or '11':\n",
    "            date_start = str(year) + '-' + str(month) + '-01'\n",
    "            date_end = str(year) + '-' + str(month) + '-30'\n",
    "            results = session.query(Measurement.tobs).filter(Measurement.date >= date_start).filter(Measurement.date <= date_end).all()\n",
    "            temp_list = temp_list + results\n",
    "        else:\n",
    "            date_start = str(year) + '-' + str(month) + '-01'\n",
    "            date_end = str(year) + '-' + str(month) + '-28'\n",
    "            results = session.query(Measurement.tobs).filter(Measurement.date >= date_start).filter(Measurement.date <= date_end).all()\n",
    "    temp_df = pd.DataFrame(temp_list)\n",
    "    return(temp_df.describe())\n"
   ]
  },
  {
   "cell_type": "code",
   "execution_count": 5,
   "metadata": {},
   "outputs": [
    {
     "output_type": "stream",
     "name": "stdout",
     "text": [
      "                 0\ncount  1700.000000\nmean     74.944118\nstd       3.257417\nmin      64.000000\n25%      73.000000\n50%      75.000000\n75%      77.000000\nmax      85.000000\n                 0\ncount  1517.000000\nmean     71.041529\nstd       3.745920\nmin      56.000000\n25%      69.000000\n50%      71.000000\n75%      74.000000\nmax      83.000000\n"
     ]
    }
   ],
   "source": [
    "print(monthly_temps('06'))\n",
    "print(monthly_temps('12'))"
   ]
  },
  {
   "cell_type": "code",
   "execution_count": 6,
   "metadata": {},
   "outputs": [],
   "source": [
    "# 1. Import the sqlalchemy extract function.\n",
    "from sqlalchemy import extract\n",
    "\n",
    "# 2. Write a query that filters the Measurement table to retrieve the temperatures for the month of June.\n",
    "june_2010 = session.query(Measurement.tobs).filter(Measurement.date >= '2010-06-01').filter(Measurement.date <= '2010-06-30').all()\n",
    "june_2011 = session.query(Measurement.tobs).filter(Measurement.date >= '2011-06-01').filter(Measurement.date <= '2011-06-30').all()\n",
    "june_2012 = session.query(Measurement.tobs).filter(Measurement.date >= '2012-06-01').filter(Measurement.date <= '2012-06-30').all()\n",
    "june_2013 = session.query(Measurement.tobs).filter(Measurement.date >= '2013-06-01').filter(Measurement.date <= '2013-06-30').all()\n",
    "june_2014 = session.query(Measurement.tobs).filter(Measurement.date >= '2014-06-01').filter(Measurement.date <= '2014-06-30').all()\n",
    "june_2015 = session.query(Measurement.tobs).filter(Measurement.date >= '2015-06-01').filter(Measurement.date <= '2015-06-30').all()\n",
    "june_2016 = session.query(Measurement.tobs).filter(Measurement.date >= '2016-06-01').filter(Measurement.date <= '2016-06-30').all()\n",
    "june_2017 = session.query(Measurement.tobs).filter(Measurement.date >= '2017-06-01').filter(Measurement.date <= '2017-06-30').all()"
   ]
  },
  {
   "cell_type": "code",
   "execution_count": 7,
   "metadata": {},
   "outputs": [],
   "source": [
    "#  3. Convert the June temperatures to a list.\n",
    "june_list = list(june_2010 + june_2011 + june_2012 + june_2013 + june_2014 + june_2015 + june_2016 + june_2017)\n"
   ]
  },
  {
   "cell_type": "code",
   "execution_count": 8,
   "metadata": {},
   "outputs": [],
   "source": [
    "# 4. Create a DataFrame from the list of temperatures for the month of June. \n",
    "june_df = pd.DataFrame(june_list)"
   ]
  },
  {
   "cell_type": "code",
   "execution_count": 9,
   "metadata": {},
   "outputs": [
    {
     "output_type": "execute_result",
     "data": {
      "text/plain": [
       "                 0\n",
       "count  1700.000000\n",
       "mean     74.944118\n",
       "std       3.257417\n",
       "min      64.000000\n",
       "25%      73.000000\n",
       "50%      75.000000\n",
       "75%      77.000000\n",
       "max      85.000000"
      ],
      "text/html": "<div>\n<style scoped>\n    .dataframe tbody tr th:only-of-type {\n        vertical-align: middle;\n    }\n\n    .dataframe tbody tr th {\n        vertical-align: top;\n    }\n\n    .dataframe thead th {\n        text-align: right;\n    }\n</style>\n<table border=\"1\" class=\"dataframe\">\n  <thead>\n    <tr style=\"text-align: right;\">\n      <th></th>\n      <th>0</th>\n    </tr>\n  </thead>\n  <tbody>\n    <tr>\n      <th>count</th>\n      <td>1700.000000</td>\n    </tr>\n    <tr>\n      <th>mean</th>\n      <td>74.944118</td>\n    </tr>\n    <tr>\n      <th>std</th>\n      <td>3.257417</td>\n    </tr>\n    <tr>\n      <th>min</th>\n      <td>64.000000</td>\n    </tr>\n    <tr>\n      <th>25%</th>\n      <td>73.000000</td>\n    </tr>\n    <tr>\n      <th>50%</th>\n      <td>75.000000</td>\n    </tr>\n    <tr>\n      <th>75%</th>\n      <td>77.000000</td>\n    </tr>\n    <tr>\n      <th>max</th>\n      <td>85.000000</td>\n    </tr>\n  </tbody>\n</table>\n</div>"
     },
     "metadata": {},
     "execution_count": 9
    }
   ],
   "source": [
    "# 5. Calculate and print out the summary statistics for the June temperature DataFrame.\n",
    "june_df.describe()"
   ]
  },
  {
   "cell_type": "markdown",
   "metadata": {},
   "source": [
    "## D2: Determine the Summary Statistics for December"
   ]
  },
  {
   "cell_type": "code",
   "execution_count": 10,
   "metadata": {},
   "outputs": [],
   "source": [
    "# 6. Write a query that filters the Measurement table to retrieve the temperatures for the month of December.\n",
    "dec_2010 = session.query(Measurement.tobs).filter(Measurement.date >= '2010-12-01').filter(Measurement.date <= '2010-12-31').all()\n",
    "dec_2011 = session.query(Measurement.tobs).filter(Measurement.date >= '2011-12-01').filter(Measurement.date <= '2011-12-31').all()\n",
    "dec_2012 = session.query(Measurement.tobs).filter(Measurement.date >= '2012-12-01').filter(Measurement.date <= '2012-12-31').all()\n",
    "dec_2013 = session.query(Measurement.tobs).filter(Measurement.date >= '2013-12-01').filter(Measurement.date <= '2013-12-31').all()\n",
    "dec_2014 = session.query(Measurement.tobs).filter(Measurement.date >= '2014-12-01').filter(Measurement.date <= '2014-12-31').all()\n",
    "dec_2015 = session.query(Measurement.tobs).filter(Measurement.date >= '2015-12-01').filter(Measurement.date <= '2015-12-31').all()\n",
    "dec_2016 = session.query(Measurement.tobs).filter(Measurement.date >= '2016-12-01').filter(Measurement.date <= '2016-12-31').all()\n",
    "dec_2017 = session.query(Measurement.tobs).filter(Measurement.date >= '2017-12-01').filter(Measurement.date <= '2017-12-31').all()"
   ]
  },
  {
   "cell_type": "code",
   "execution_count": 11,
   "metadata": {},
   "outputs": [],
   "source": [
    "# 7. Convert the December temperatures to a list.\n",
    "dec_list = list(dec_2010 + dec_2011 + dec_2012 + dec_2013 + dec_2014 + dec_2015 + dec_2016 + dec_2017)"
   ]
  },
  {
   "cell_type": "code",
   "execution_count": 12,
   "metadata": {},
   "outputs": [],
   "source": [
    "# 8. Create a DataFrame from the list of temperatures for the month of December. \n",
    "dec_df = pd.DataFrame(dec_list)"
   ]
  },
  {
   "cell_type": "code",
   "execution_count": 13,
   "metadata": {},
   "outputs": [
    {
     "output_type": "execute_result",
     "data": {
      "text/plain": [
       "                 0\n",
       "count  1517.000000\n",
       "mean     71.041529\n",
       "std       3.745920\n",
       "min      56.000000\n",
       "25%      69.000000\n",
       "50%      71.000000\n",
       "75%      74.000000\n",
       "max      83.000000"
      ],
      "text/html": "<div>\n<style scoped>\n    .dataframe tbody tr th:only-of-type {\n        vertical-align: middle;\n    }\n\n    .dataframe tbody tr th {\n        vertical-align: top;\n    }\n\n    .dataframe thead th {\n        text-align: right;\n    }\n</style>\n<table border=\"1\" class=\"dataframe\">\n  <thead>\n    <tr style=\"text-align: right;\">\n      <th></th>\n      <th>0</th>\n    </tr>\n  </thead>\n  <tbody>\n    <tr>\n      <th>count</th>\n      <td>1517.000000</td>\n    </tr>\n    <tr>\n      <th>mean</th>\n      <td>71.041529</td>\n    </tr>\n    <tr>\n      <th>std</th>\n      <td>3.745920</td>\n    </tr>\n    <tr>\n      <th>min</th>\n      <td>56.000000</td>\n    </tr>\n    <tr>\n      <th>25%</th>\n      <td>69.000000</td>\n    </tr>\n    <tr>\n      <th>50%</th>\n      <td>71.000000</td>\n    </tr>\n    <tr>\n      <th>75%</th>\n      <td>74.000000</td>\n    </tr>\n    <tr>\n      <th>max</th>\n      <td>83.000000</td>\n    </tr>\n  </tbody>\n</table>\n</div>"
     },
     "metadata": {},
     "execution_count": 13
    }
   ],
   "source": [
    "# 9. Calculate and print out the summary statistics for the Decemeber temperature DataFrame.\n",
    "dec_df.describe()"
   ]
  },
  {
   "cell_type": "code",
   "execution_count": null,
   "metadata": {},
   "outputs": [],
   "source": []
  }
 ],
 "metadata": {
  "kernelspec": {
   "name": "python3",
   "display_name": "Python 3.7.10 64-bit ('PythonData': conda)"
  },
  "language_info": {
   "codemirror_mode": {
    "name": "ipython",
    "version": 3
   },
   "file_extension": ".py",
   "mimetype": "text/x-python",
   "name": "python",
   "nbconvert_exporter": "python",
   "pygments_lexer": "ipython3",
   "version": "3.7.10"
  },
  "interpreter": {
   "hash": "bd4d8d9e0fa2feb3f750a60b378f028d31cf0c96e16eb78567932803fc4cc3a7"
  }
 },
 "nbformat": 4,
 "nbformat_minor": 2
}